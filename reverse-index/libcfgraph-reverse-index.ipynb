{
 "cells": [
  {
   "cell_type": "code",
   "execution_count": 1,
   "id": "a55d9298",
   "metadata": {},
   "outputs": [],
   "source": [
    "from pathlib import Path\n",
    "import json"
   ]
  },
  {
   "cell_type": "markdown",
   "id": "c49fa92d",
   "metadata": {},
   "source": [
    "I am mounting libcfgraph as a squashfs file with the udisks2 Arch package and the following commands\n",
    "```bash\n",
    "pv-squashfs-dev() { udisksctl loop-setup -f \"$1\" | grep -Eo '/dev/w+' ; }\n",
    "pv-mount-dev() { udisksctl mount -b \"$1\" | grep -Eo '/run/media/(\\w|/)+' ; }\n",
    "pv-mount-link() { mkdir -p ~/mnt ; ln -s \"$1\" ~/mnt/\"$2\" ; }\n",
    "pv-mount-squashfs() { pv-mount-link $(pv-mount-dev $(pv-squashfs-dev \"$1\")) \"$2\" ; }\n",
    "```\n",
    "\n",
    "I get the squashfs file by:\n",
    "```bash\n",
    "git clone --depth 1 https://github.com/regro/libcfgraph.git\n",
    "mksquashfs ./libcfgraph ./libcfgraph.sfs -comp zstd -e .git\n",
    "```\n",
    "Note that mksquashfs is parallel and CPU bound, but this is 55GB is it'll take a while."
   ]
  },
  {
   "cell_type": "code",
   "execution_count": 4,
   "id": "2ef5705d",
   "metadata": {},
   "outputs": [
    {
     "data": {
      "text/plain": [
       "[PosixPath('mnt/libcfgraph/.circleci'),\n",
       " PosixPath('mnt/libcfgraph/.file_listing_0.json'),\n",
       " PosixPath('mnt/libcfgraph/.file_listing_1.json'),\n",
       " PosixPath('mnt/libcfgraph/.file_listing_2.json'),\n",
       " PosixPath('mnt/libcfgraph/.file_listing_3.json'),\n",
       " PosixPath('mnt/libcfgraph/.file_listing_4.json'),\n",
       " PosixPath('mnt/libcfgraph/.file_listing_5.json'),\n",
       " PosixPath('mnt/libcfgraph/.file_listing_6.json'),\n",
       " PosixPath('mnt/libcfgraph/.file_listing_7.json'),\n",
       " PosixPath('mnt/libcfgraph/.file_listing_8.json'),\n",
       " PosixPath('mnt/libcfgraph/.file_listing_9.json'),\n",
       " PosixPath('mnt/libcfgraph/.file_listing_meta.json'),\n",
       " PosixPath('mnt/libcfgraph/.github'),\n",
       " PosixPath('mnt/libcfgraph/.import_to_pkg_maps_indexed_files_0'),\n",
       " PosixPath('mnt/libcfgraph/.import_to_pkg_maps_indexed_files_1'),\n",
       " PosixPath('mnt/libcfgraph/.import_to_pkg_maps_indexed_files_2'),\n",
       " PosixPath('mnt/libcfgraph/.import_to_pkg_maps_indexed_files_3'),\n",
       " PosixPath('mnt/libcfgraph/.import_to_pkg_maps_indexed_files_4'),\n",
       " PosixPath('mnt/libcfgraph/.import_to_pkg_maps_indexed_files_5'),\n",
       " PosixPath('mnt/libcfgraph/.import_to_pkg_maps_indexed_files_6'),\n",
       " PosixPath('mnt/libcfgraph/.import_to_pkg_maps_indexed_files_7'),\n",
       " PosixPath('mnt/libcfgraph/.import_to_pkg_maps_indexed_files_8'),\n",
       " PosixPath('mnt/libcfgraph/.import_to_pkg_maps_indexed_files_9'),\n",
       " PosixPath('mnt/libcfgraph/.indexed_files'),\n",
       " PosixPath('mnt/libcfgraph/README.md'),\n",
       " PosixPath('mnt/libcfgraph/artifacts'),\n",
       " PosixPath('mnt/libcfgraph/clobbering_pkgs.json'),\n",
       " PosixPath('mnt/libcfgraph/generate_file_listing.py'),\n",
       " PosixPath('mnt/libcfgraph/import_maps'),\n",
       " PosixPath('mnt/libcfgraph/import_maps_meta.json'),\n",
       " PosixPath('mnt/libcfgraph/import_to_pkg_maps'),\n",
       " PosixPath('mnt/libcfgraph/import_to_pkg_maps_clobbering_pkgs.json'),\n",
       " PosixPath('mnt/libcfgraph/import_to_pkg_maps_meta.json')]"
      ]
     },
     "execution_count": 4,
     "metadata": {},
     "output_type": "execute_result"
    }
   ],
   "source": [
    "cfgraph_dir = Path(\"./mnt/libcfgraph\")\n",
    "list(cfgraph_dir.iterdir())"
   ]
  },
  {
   "cell_type": "code",
   "execution_count": 10,
   "id": "2d571731",
   "metadata": {},
   "outputs": [
    {
     "data": {
      "text/plain": [
       "PosixPath('mnt/libcfgraph/artifacts/21cmfast/conda-forge/linux-64/21cmfast-3.0.2-py36h1af98f8_1.json')"
      ]
     },
     "execution_count": 10,
     "metadata": {},
     "output_type": "execute_result"
    }
   ],
   "source": [
    "next((cfgraph_dir / \"artifacts/21cmfast/conda-forge/linux-64\").iterdir())"
   ]
  },
  {
   "cell_type": "code",
   "execution_count": 11,
   "id": "d5680a8c",
   "metadata": {},
   "outputs": [
    {
     "data": {
      "text/plain": [
       "PosixPath('mnt/libcfgraph/artifacts/21cmfast/conda-forge/linux-64')"
      ]
     },
     "execution_count": 11,
     "metadata": {},
     "output_type": "execute_result"
    }
   ],
   "source": [
    "next((cfgraph_dir / \"artifacts\").glob(\"*/conda-forge/linux-64\"))"
   ]
  },
  {
   "cell_type": "code",
   "execution_count": 24,
   "id": "6480925c",
   "metadata": {},
   "outputs": [],
   "source": [
    "with open(\"libcfgraph_reverse_index_linux-64.tsv\",\"w\") as out:\n",
    "    for pkg_path in (cfgraph_dir / \"artifacts\").glob(\"*/conda-forge/linux-64\"):\n",
    "        # lexicographic sorting isn't the same as version sorting, but close enough for now\n",
    "        json_path = sorted(pkg_path.glob(\"*.json\"))[-1]\n",
    "        with open(json_path) as f:\n",
    "            meta = json.load(f)\n",
    "        meta_name = meta['name']\n",
    "        print(\"\\n\".join((\"{}\\t{}\".format(file, meta_name) for file in meta['files'])), file=out)"
   ]
  },
  {
   "cell_type": "markdown",
   "id": "671fc204",
   "metadata": {},
   "source": [
    "Now you can browse it with `< libcfgraph_reverse_index_linux-64.tsv fzf`"
   ]
  }
 ],
 "metadata": {
  "kernelspec": {
   "display_name": "Python 3 (ipykernel)",
   "language": "python",
   "name": "python3"
  },
  "language_info": {
   "codemirror_mode": {
    "name": "ipython",
    "version": 3
   },
   "file_extension": ".py",
   "mimetype": "text/x-python",
   "name": "python",
   "nbconvert_exporter": "python",
   "pygments_lexer": "ipython3",
   "version": "3.11.0"
  }
 },
 "nbformat": 4,
 "nbformat_minor": 5
}
